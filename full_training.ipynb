{
 "cells": [
  {
   "cell_type": "code",
   "execution_count": 1,
   "metadata": {},
   "outputs": [],
   "source": [
    "import pandas as pd\n",
    "import numpy as np\n",
    "import tensorflow as tf\n",
    "import matplotlib.pyplot as plt\n",
    "import seaborn as sns\n",
    "from tensorflow import keras\n",
    "from tensorflow.keras import models, layers\n",
    "import os"
   ]
  },
  {
   "cell_type": "code",
   "execution_count": 2,
   "metadata": {},
   "outputs": [
    {
     "data": {
      "text/plain": [
       "'C:\\\\Users\\\\223102397\\\\Documents\\\\Deep Learning\\\\tomatoes-disease\\\\training'"
      ]
     },
     "execution_count": 2,
     "metadata": {},
     "output_type": "execute_result"
    }
   ],
   "source": [
    "pwd = os.getcwd()\n",
    "pwd"
   ]
  },
  {
   "cell_type": "code",
   "execution_count": 3,
   "metadata": {},
   "outputs": [],
   "source": [
    "BATCH_SIZE = 68\n",
    "IMAGE_SIZE = 256\n",
    "CHANNELS = 3\n"
   ]
  },
  {
   "cell_type": "code",
   "execution_count": 4,
   "metadata": {},
   "outputs": [
    {
     "name": "stdout",
     "output_type": "stream",
     "text": [
      "Found 16011 files belonging to 10 classes.\n"
     ]
    }
   ],
   "source": [
    "dataset = tf.keras.preprocessing.image_dataset_from_directory('TomatoesImagesFull',shuffle=True, image_size=(IMAGE_SIZE,IMAGE_SIZE),batch_size=68, seed = 123)"
   ]
  },
  {
   "cell_type": "code",
   "execution_count": 5,
   "metadata": {},
   "outputs": [
    {
     "data": {
      "text/plain": [
       "236"
      ]
     },
     "execution_count": 5,
     "metadata": {},
     "output_type": "execute_result"
    }
   ],
   "source": [
    "len(dataset)"
   ]
  },
  {
   "cell_type": "code",
   "execution_count": 6,
   "metadata": {},
   "outputs": [
    {
     "data": {
      "text/plain": [
       "['Tomato_Bacterial_spot',\n",
       " 'Tomato_Early_blight',\n",
       " 'Tomato_Late_blight',\n",
       " 'Tomato_Leaf_Mold',\n",
       " 'Tomato_Septoria_leaf_spot',\n",
       " 'Tomato_Spider_mites_Two_spotted_spider_mite',\n",
       " 'Tomato__Target_Spot',\n",
       " 'Tomato__Tomato_YellowLeaf__Curl_Virus',\n",
       " 'Tomato__Tomato_mosaic_virus',\n",
       " 'Tomato_healthy']"
      ]
     },
     "execution_count": 6,
     "metadata": {},
     "output_type": "execute_result"
    }
   ],
   "source": [
    "class_names= dataset.class_names\n",
    "class_names"
   ]
  },
  {
   "cell_type": "code",
   "execution_count": 7,
   "metadata": {},
   "outputs": [
    {
     "data": {
      "text/plain": [
       "188.8"
      ]
     },
     "execution_count": 7,
     "metadata": {},
     "output_type": "execute_result"
    }
   ],
   "source": [
    "train_size = 0.8\n",
    "len(dataset)*train_size"
   ]
  },
  {
   "cell_type": "code",
   "execution_count": 8,
   "metadata": {},
   "outputs": [],
   "source": [
    "train_ds = dataset.take(188)"
   ]
  },
  {
   "cell_type": "code",
   "execution_count": 9,
   "metadata": {},
   "outputs": [
    {
     "data": {
      "text/plain": [
       "188"
      ]
     },
     "execution_count": 9,
     "metadata": {},
     "output_type": "execute_result"
    }
   ],
   "source": [
    "len(train_ds)"
   ]
  },
  {
   "cell_type": "code",
   "execution_count": 10,
   "metadata": {},
   "outputs": [
    {
     "data": {
      "text/plain": [
       "48"
      ]
     },
     "execution_count": 10,
     "metadata": {},
     "output_type": "execute_result"
    }
   ],
   "source": [
    "test_ds = dataset.skip(188)\n",
    "len(test_ds)"
   ]
  },
  {
   "cell_type": "code",
   "execution_count": 11,
   "metadata": {},
   "outputs": [
    {
     "data": {
      "text/plain": [
       "23.6"
      ]
     },
     "execution_count": 11,
     "metadata": {},
     "output_type": "execute_result"
    }
   ],
   "source": [
    "val_size = 0.1\n",
    "len(dataset)*val_size"
   ]
  },
  {
   "cell_type": "code",
   "execution_count": 12,
   "metadata": {},
   "outputs": [
    {
     "data": {
      "text/plain": [
       "23"
      ]
     },
     "execution_count": 12,
     "metadata": {},
     "output_type": "execute_result"
    }
   ],
   "source": [
    "val_ds = test_ds.take(23)\n",
    "len(val_ds)"
   ]
  },
  {
   "cell_type": "code",
   "execution_count": 13,
   "metadata": {},
   "outputs": [
    {
     "data": {
      "text/plain": [
       "25"
      ]
     },
     "execution_count": 13,
     "metadata": {},
     "output_type": "execute_result"
    }
   ],
   "source": [
    "test_ds = test_ds.skip(23)\n",
    "len(test_ds)"
   ]
  },
  {
   "cell_type": "code",
   "execution_count": 14,
   "metadata": {},
   "outputs": [],
   "source": [
    "resize_and_rescale = keras.Sequential([\n",
    "    layers.experimental.preprocessing.Resizing(IMAGE_SIZE,IMAGE_SIZE),\n",
    "    layers.experimental.preprocessing.Rescaling(scale=1./255)\n",
    "])"
   ]
  },
  {
   "cell_type": "code",
   "execution_count": 15,
   "metadata": {},
   "outputs": [
    {
     "data": {
      "text/plain": [
       "<keras.engine.sequential.Sequential at 0x201a0bd7e08>"
      ]
     },
     "execution_count": 15,
     "metadata": {},
     "output_type": "execute_result"
    }
   ],
   "source": [
    "resize_and_rescale"
   ]
  },
  {
   "cell_type": "code",
   "execution_count": 16,
   "metadata": {},
   "outputs": [],
   "source": [
    "input_shape = (BATCH_SIZE,IMAGE_SIZE,IMAGE_SIZE, CHANNELS)\n",
    "n_classes = 10"
   ]
  },
  {
   "cell_type": "code",
   "execution_count": 17,
   "metadata": {},
   "outputs": [],
   "source": [
    "model = tf.keras.models.Sequential([\n",
    "    resize_and_rescale,\n",
    "    layers.Conv2D(32, kernel_size = (3,3), activation='relu', input_shape=input_shape),\n",
    "    layers.MaxPooling2D((2, 2)),\n",
    "    layers.Conv2D(64,  kernel_size = (3,3), activation='relu'),\n",
    "    layers.MaxPooling2D((2, 2)),\n",
    "    layers.Conv2D(64,  kernel_size = (3,3), activation='relu'),\n",
    "    layers.MaxPooling2D((2, 2)),\n",
    "    layers.Conv2D(64, (3, 3), activation='relu'),\n",
    "    layers.MaxPooling2D((2, 2)),\n",
    "    layers.Conv2D(64, (3, 3), activation='relu'),\n",
    "    layers.MaxPooling2D((2, 2)),\n",
    "    layers.Conv2D(64, (3, 3), activation='relu'),\n",
    "    layers.MaxPooling2D((2, 2)),\n",
    "    layers.Flatten(),\n",
    "    layers.Dense(64, activation='relu'),\n",
    "    layers.Dense(n_classes, activation='softmax'),\n",
    "])"
   ]
  },
  {
   "cell_type": "code",
   "execution_count": 18,
   "metadata": {},
   "outputs": [],
   "source": [
    "model.build(input_shape=input_shape)"
   ]
  },
  {
   "cell_type": "code",
   "execution_count": 19,
   "metadata": {},
   "outputs": [
    {
     "name": "stdout",
     "output_type": "stream",
     "text": [
      "Model: \"sequential_1\"\n",
      "_________________________________________________________________\n",
      " Layer (type)                Output Shape              Param #   \n",
      "=================================================================\n",
      " sequential (Sequential)     (68, 256, 256, 3)         0         \n",
      "                                                                 \n",
      " conv2d (Conv2D)             (68, 254, 254, 32)        896       \n",
      "                                                                 \n",
      " max_pooling2d (MaxPooling2D  (68, 127, 127, 32)       0         \n",
      " )                                                               \n",
      "                                                                 \n",
      " conv2d_1 (Conv2D)           (68, 125, 125, 64)        18496     \n",
      "                                                                 \n",
      " max_pooling2d_1 (MaxPooling  (68, 62, 62, 64)         0         \n",
      " 2D)                                                             \n",
      "                                                                 \n",
      " conv2d_2 (Conv2D)           (68, 60, 60, 64)          36928     \n",
      "                                                                 \n",
      " max_pooling2d_2 (MaxPooling  (68, 30, 30, 64)         0         \n",
      " 2D)                                                             \n",
      "                                                                 \n",
      " conv2d_3 (Conv2D)           (68, 28, 28, 64)          36928     \n",
      "                                                                 \n",
      " max_pooling2d_3 (MaxPooling  (68, 14, 14, 64)         0         \n",
      " 2D)                                                             \n",
      "                                                                 \n",
      " conv2d_4 (Conv2D)           (68, 12, 12, 64)          36928     \n",
      "                                                                 \n",
      " max_pooling2d_4 (MaxPooling  (68, 6, 6, 64)           0         \n",
      " 2D)                                                             \n",
      "                                                                 \n",
      " conv2d_5 (Conv2D)           (68, 4, 4, 64)            36928     \n",
      "                                                                 \n",
      " max_pooling2d_5 (MaxPooling  (68, 2, 2, 64)           0         \n",
      " 2D)                                                             \n",
      "                                                                 \n",
      " flatten (Flatten)           (68, 256)                 0         \n",
      "                                                                 \n",
      " dense (Dense)               (68, 64)                  16448     \n",
      "                                                                 \n",
      " dense_1 (Dense)             (68, 10)                  650       \n",
      "                                                                 \n",
      "=================================================================\n",
      "Total params: 184,202\n",
      "Trainable params: 184,202\n",
      "Non-trainable params: 0\n",
      "_________________________________________________________________\n"
     ]
    }
   ],
   "source": [
    "model.summary()"
   ]
  },
  {
   "cell_type": "code",
   "execution_count": 20,
   "metadata": {},
   "outputs": [],
   "source": [
    "model.compile(optimizer='adam',loss = tf.keras.losses.SparseCategoricalCrossentropy(from_logits=False), metrics = ['accuracy'])"
   ]
  },
  {
   "cell_type": "code",
   "execution_count": 21,
   "metadata": {},
   "outputs": [
    {
     "name": "stdout",
     "output_type": "stream",
     "text": [
      "Epoch 1/15\n",
      "188/188 [==============================] - 545s 3s/step - loss: 1.5752 - accuracy: 0.4457 - val_loss: 1.1322 - val_accuracy: 0.5818\n",
      "Epoch 2/15\n",
      "188/188 [==============================] - 631s 3s/step - loss: 0.8513 - accuracy: 0.7125 - val_loss: 0.6827 - val_accuracy: 0.7583\n",
      "Epoch 3/15\n",
      "188/188 [==============================] - 693s 4s/step - loss: 0.5707 - accuracy: 0.8033 - val_loss: 0.4852 - val_accuracy: 0.8312\n",
      "Epoch 4/15\n",
      "188/188 [==============================] - 710s 4s/step - loss: 0.4193 - accuracy: 0.8561 - val_loss: 0.3949 - val_accuracy: 0.8581\n",
      "Epoch 5/15\n",
      "188/188 [==============================] - 740s 4s/step - loss: 0.3512 - accuracy: 0.8795 - val_loss: 0.3409 - val_accuracy: 0.8683\n",
      "Epoch 6/15\n",
      "188/188 [==============================] - 695s 4s/step - loss: 0.2789 - accuracy: 0.9021 - val_loss: 0.2566 - val_accuracy: 0.8983\n",
      "Epoch 7/15\n",
      "188/188 [==============================] - 692s 4s/step - loss: 0.2364 - accuracy: 0.9182 - val_loss: 0.2389 - val_accuracy: 0.9047\n",
      "Epoch 8/15\n",
      "188/188 [==============================] - 666s 4s/step - loss: 0.2070 - accuracy: 0.9273 - val_loss: 0.2383 - val_accuracy: 0.9156\n",
      "Epoch 9/15\n",
      "188/188 [==============================] - 609s 3s/step - loss: 0.1689 - accuracy: 0.9409 - val_loss: 0.2189 - val_accuracy: 0.9220\n",
      "Epoch 10/15\n",
      "188/188 [==============================] - 626s 3s/step - loss: 0.1236 - accuracy: 0.9573 - val_loss: 0.2112 - val_accuracy: 0.9316\n",
      "Epoch 11/15\n",
      "188/188 [==============================] - 625s 3s/step - loss: 0.1329 - accuracy: 0.9517 - val_loss: 0.2959 - val_accuracy: 0.8977\n",
      "Epoch 12/15\n",
      "188/188 [==============================] - 606s 3s/step - loss: 0.1232 - accuracy: 0.9566 - val_loss: 0.2847 - val_accuracy: 0.9073\n",
      "Epoch 13/15\n",
      "188/188 [==============================] - 591s 3s/step - loss: 0.1031 - accuracy: 0.9639 - val_loss: 0.1540 - val_accuracy: 0.9463\n",
      "Epoch 14/15\n",
      "188/188 [==============================] - 611s 3s/step - loss: 0.0895 - accuracy: 0.9700 - val_loss: 0.2637 - val_accuracy: 0.9169\n",
      "Epoch 15/15\n",
      "188/188 [==============================] - 600s 3s/step - loss: 0.0896 - accuracy: 0.9696 - val_loss: 0.1592 - val_accuracy: 0.9501\n"
     ]
    }
   ],
   "source": [
    "history = model.fit(train_ds, validation_data=val_ds,epochs=15,batch_size=BATCH_SIZE, verbose=1)"
   ]
  },
  {
   "cell_type": "code",
   "execution_count": 22,
   "metadata": {},
   "outputs": [
    {
     "name": "stdout",
     "output_type": "stream",
     "text": [
      "25/25 [==============================] - 37s 983ms/step - loss: 0.2278 - accuracy: 0.9296\n"
     ]
    },
    {
     "data": {
      "text/plain": [
       "[0.2277889847755432, 0.9296452403068542]"
      ]
     },
     "execution_count": 22,
     "metadata": {},
     "output_type": "execute_result"
    }
   ],
   "source": [
    "scores = model.evaluate(test_ds)\n",
    "scores"
   ]
  },
  {
   "cell_type": "code",
   "execution_count": 23,
   "metadata": {},
   "outputs": [
    {
     "data": {
      "text/plain": [
       "{'verbose': 1, 'epochs': 15, 'steps': 188}"
      ]
     },
     "execution_count": 23,
     "metadata": {},
     "output_type": "execute_result"
    }
   ],
   "source": [
    "history.params"
   ]
  },
  {
   "cell_type": "code",
   "execution_count": 24,
   "metadata": {},
   "outputs": [
    {
     "data": {
      "text/plain": [
       "dict_keys(['loss', 'accuracy', 'val_loss', 'val_accuracy'])"
      ]
     },
     "execution_count": 24,
     "metadata": {},
     "output_type": "execute_result"
    }
   ],
   "source": [
    "history.history.keys()"
   ]
  },
  {
   "cell_type": "code",
   "execution_count": 25,
   "metadata": {},
   "outputs": [],
   "source": [
    "loss = history.history['loss']\n",
    "acc = history.history['accuracy']\n",
    "val_loss = history.history['val_loss']\n",
    "val_acc = history.history['val_accuracy']"
   ]
  },
  {
   "cell_type": "code",
   "execution_count": 26,
   "metadata": {},
   "outputs": [],
   "source": [
    "EPOCHS = 15"
   ]
  },
  {
   "cell_type": "code",
   "execution_count": 27,
   "metadata": {},
   "outputs": [
    {
     "data": {
      "text/plain": [
       "<matplotlib.legend.Legend at 0x201a170a8c8>"
      ]
     },
     "execution_count": 27,
     "metadata": {},
     "output_type": "execute_result"
    },
    {
     "data": {
      "image/png": "[encoded data removed]",
      "text/plain": [
       "<Figure size 504x504 with 2 Axes>"
      ]
     },
     "metadata": {
      "needs_background": "light"
     },
     "output_type": "display_data"
    }
   ],
   "source": [
    "plt.figure(figsize=(7,7))\n",
    "plt.subplot(1, 2, 1)\n",
    "plt.plot(range(EPOCHS), loss, label = 'Training loss')\n",
    "plt.plot(range(EPOCHS), val_loss, label = 'Validation loss')\n",
    "plt.legend()\n",
    "\n",
    "plt.subplot(1, 2, 2)\n",
    "plt.plot(range(EPOCHS), acc, label = 'Training accuracy')\n",
    "plt.plot(range(EPOCHS), val_acc, label = 'Validation accuracy')\n",
    "plt.legend()\n"
   ]
  },
  {
   "cell_type": "markdown",
   "metadata": {},
   "source": [
    "### Try"
   ]
  },
  {
   "cell_type": "code",
   "execution_count": 28,
   "metadata": {},
   "outputs": [
    {
     "name": "stdout",
     "output_type": "stream",
     "text": [
      "(<tf.Tensor: shape=(68, 256, 256, 3), dtype=float32, numpy=\n",
      "array([[[[132., 132., 132.],\n",
      "         [129., 129., 129.],\n",
      "         [128., 128., 128.],\n",
      "         ...,\n",
      "         [135., 139., 140.],\n",
      "         [135., 139., 140.],\n",
      "         [135., 139., 140.]],\n",
      "\n",
      "        [[139., 139., 139.],\n",
      "         [136., 136., 136.],\n",
      "         [133., 133., 133.],\n",
      "         ...,\n",
      "         [135., 139., 140.],\n",
      "         [134., 138., 139.],\n",
      "         [134., 138., 139.]],\n",
      "\n",
      "        [[143., 143., 143.],\n",
      "         [139., 139., 139.],\n",
      "         [136., 136., 136.],\n",
      "         ...,\n",
      "         [135., 139., 140.],\n",
      "         [134., 138., 139.],\n",
      "         [134., 138., 139.]],\n",
      "\n",
      "        ...,\n",
      "\n",
      "        [[ 60.,  59.,  64.],\n",
      "         [ 63.,  62.,  67.],\n",
      "         [ 65.,  64.,  69.],\n",
      "         ...,\n",
      "         [103., 103., 103.],\n",
      "         [101., 101., 101.],\n",
      "         [ 98.,  98.,  98.]],\n",
      "\n",
      "        [[ 54.,  53.,  58.],\n",
      "         [ 56.,  55.,  60.],\n",
      "         [ 58.,  57.,  62.],\n",
      "         ...,\n",
      "         [110., 110., 110.],\n",
      "         [113., 113., 113.],\n",
      "         [114., 114., 114.]],\n",
      "\n",
      "        [[ 60.,  59.,  64.],\n",
      "         [ 60.,  59.,  64.],\n",
      "         [ 61.,  60.,  65.],\n",
      "         ...,\n",
      "         [107., 107., 107.],\n",
      "         [104., 104., 104.],\n",
      "         [103., 103., 103.]]],\n",
      "\n",
      "\n",
      "       [[[150., 138., 160.],\n",
      "         [143., 131., 153.],\n",
      "         [139., 127., 149.],\n",
      "         ...,\n",
      "         [ 96.,  84., 106.],\n",
      "         [ 97.,  85., 107.],\n",
      "         [101.,  89., 111.]],\n",
      "\n",
      "        [[147., 135., 157.],\n",
      "         [148., 136., 158.],\n",
      "         [143., 131., 153.],\n",
      "         ...,\n",
      "         [ 98.,  86., 108.],\n",
      "         [101.,  89., 111.],\n",
      "         [106.,  94., 116.]],\n",
      "\n",
      "        [[142., 130., 152.],\n",
      "         [150., 138., 160.],\n",
      "         [144., 132., 154.],\n",
      "         ...,\n",
      "         [ 97.,  85., 107.],\n",
      "         [101.,  89., 111.],\n",
      "         [107.,  95., 117.]],\n",
      "\n",
      "        ...,\n",
      "\n",
      "        [[147., 135., 157.],\n",
      "         [146., 134., 156.],\n",
      "         [143., 131., 153.],\n",
      "         ...,\n",
      "         [125., 110., 129.],\n",
      "         [129., 114., 133.],\n",
      "         [132., 117., 136.]],\n",
      "\n",
      "        [[148., 136., 158.],\n",
      "         [146., 134., 156.],\n",
      "         [144., 132., 154.],\n",
      "         ...,\n",
      "         [128., 113., 132.],\n",
      "         [128., 113., 132.],\n",
      "         [127., 112., 131.]],\n",
      "\n",
      "        [[148., 136., 158.],\n",
      "         [147., 135., 157.],\n",
      "         [144., 132., 154.],\n",
      "         ...,\n",
      "         [130., 115., 134.],\n",
      "         [125., 110., 129.],\n",
      "         [121., 106., 125.]]],\n",
      "\n",
      "\n",
      "       [[[133., 126., 133.],\n",
      "         [136., 129., 136.],\n",
      "         [140., 133., 140.],\n",
      "         ...,\n",
      "         [131., 126., 133.],\n",
      "         [129., 124., 131.],\n",
      "         [143., 138., 145.]],\n",
      "\n",
      "        [[128., 121., 128.],\n",
      "         [132., 125., 132.],\n",
      "         [136., 129., 136.],\n",
      "         ...,\n",
      "         [141., 136., 143.],\n",
      "         [141., 136., 143.],\n",
      "         [141., 136., 143.]],\n",
      "\n",
      "        [[128., 121., 128.],\n",
      "         [131., 124., 131.],\n",
      "         [134., 127., 134.],\n",
      "         ...,\n",
      "         [132., 127., 134.],\n",
      "         [138., 133., 140.],\n",
      "         [129., 124., 131.]],\n",
      "\n",
      "        ...,\n",
      "\n",
      "        [[131., 126., 130.],\n",
      "         [132., 127., 131.],\n",
      "         [133., 128., 132.],\n",
      "         ...,\n",
      "         [ 89.,  87.,  92.],\n",
      "         [ 91.,  89.,  94.],\n",
      "         [ 92.,  90.,  95.]],\n",
      "\n",
      "        [[133., 128., 132.],\n",
      "         [133., 128., 132.],\n",
      "         [135., 130., 134.],\n",
      "         ...,\n",
      "         [ 87.,  85.,  90.],\n",
      "         [ 89.,  87.,  92.],\n",
      "         [ 90.,  88.,  93.]],\n",
      "\n",
      "        [[137., 132., 136.],\n",
      "         [138., 133., 137.],\n",
      "         [138., 133., 137.],\n",
      "         ...,\n",
      "         [ 86.,  84.,  89.],\n",
      "         [ 88.,  86.,  91.],\n",
      "         [ 89.,  87.,  92.]]],\n",
      "\n",
      "\n",
      "       ...,\n",
      "\n",
      "\n",
      "       [[[161., 147., 160.],\n",
      "         [169., 155., 168.],\n",
      "         [172., 158., 171.],\n",
      "         ...,\n",
      "         [191., 180., 194.],\n",
      "         [152., 141., 155.],\n",
      "         [186., 175., 189.]],\n",
      "\n",
      "        [[170., 156., 169.],\n",
      "         [170., 156., 169.],\n",
      "         [165., 151., 164.],\n",
      "         ...,\n",
      "         [169., 158., 172.],\n",
      "         [180., 169., 183.],\n",
      "         [136., 125., 139.]],\n",
      "\n",
      "        [[155., 141., 154.],\n",
      "         [157., 143., 156.],\n",
      "         [160., 146., 159.],\n",
      "         ...,\n",
      "         [158., 147., 161.],\n",
      "         [209., 198., 212.],\n",
      "         [145., 134., 148.]],\n",
      "\n",
      "        ...,\n",
      "\n",
      "        [[130., 117., 127.],\n",
      "         [153., 140., 150.],\n",
      "         [132., 119., 129.],\n",
      "         ...,\n",
      "         [133., 121., 131.],\n",
      "         [138., 126., 136.],\n",
      "         [158., 146., 156.]],\n",
      "\n",
      "        [[186., 173., 183.],\n",
      "         [170., 157., 167.],\n",
      "         [141., 128., 138.],\n",
      "         ...,\n",
      "         [121., 109., 119.],\n",
      "         [153., 141., 151.],\n",
      "         [155., 143., 153.]],\n",
      "\n",
      "        [[134., 121., 131.],\n",
      "         [122., 109., 119.],\n",
      "         [139., 126., 136.],\n",
      "         ...,\n",
      "         [132., 120., 130.],\n",
      "         [170., 158., 168.],\n",
      "         [129., 117., 127.]]],\n",
      "\n",
      "\n",
      "       [[[155., 150., 147.],\n",
      "         [149., 144., 141.],\n",
      "         [160., 155., 152.],\n",
      "         ...,\n",
      "         [112., 107., 104.],\n",
      "         [143., 138., 135.],\n",
      "         [124., 119., 116.]],\n",
      "\n",
      "        [[170., 165., 162.],\n",
      "         [139., 134., 131.],\n",
      "         [173., 168., 165.],\n",
      "         ...,\n",
      "         [152., 147., 144.],\n",
      "         [123., 118., 115.],\n",
      "         [143., 138., 135.]],\n",
      "\n",
      "        [[184., 179., 176.],\n",
      "         [150., 145., 142.],\n",
      "         [163., 158., 155.],\n",
      "         ...,\n",
      "         [120., 115., 112.],\n",
      "         [118., 113., 110.],\n",
      "         [112., 107., 104.]],\n",
      "\n",
      "        ...,\n",
      "\n",
      "        [[148., 138., 136.],\n",
      "         [151., 141., 139.],\n",
      "         [153., 143., 141.],\n",
      "         ...,\n",
      "         [ 89.,  79.,  77.],\n",
      "         [122., 112., 110.],\n",
      "         [126., 116., 114.]],\n",
      "\n",
      "        [[136., 126., 124.],\n",
      "         [144., 134., 132.],\n",
      "         [150., 140., 138.],\n",
      "         ...,\n",
      "         [ 79.,  69.,  67.],\n",
      "         [ 62.,  52.,  50.],\n",
      "         [ 67.,  57.,  55.]],\n",
      "\n",
      "        [[152., 142., 140.],\n",
      "         [164., 154., 152.],\n",
      "         [171., 161., 159.],\n",
      "         ...,\n",
      "         [ 66.,  56.,  54.],\n",
      "         [103.,  93.,  91.],\n",
      "         [113., 103., 101.]]],\n",
      "\n",
      "\n",
      "       [[[133., 137., 138.],\n",
      "         [133., 137., 138.],\n",
      "         [133., 137., 138.],\n",
      "         ...,\n",
      "         [111., 111., 103.],\n",
      "         [114., 114., 106.],\n",
      "         [120., 120., 112.]],\n",
      "\n",
      "        [[130., 134., 135.],\n",
      "         [130., 134., 135.],\n",
      "         [131., 135., 136.],\n",
      "         ...,\n",
      "         [113., 113., 105.],\n",
      "         [115., 115., 107.],\n",
      "         [120., 120., 112.]],\n",
      "\n",
      "        [[128., 132., 133.],\n",
      "         [129., 133., 134.],\n",
      "         [130., 134., 135.],\n",
      "         ...,\n",
      "         [125., 125., 117.],\n",
      "         [124., 124., 116.],\n",
      "         [128., 128., 120.]],\n",
      "\n",
      "        ...,\n",
      "\n",
      "        [[114., 118., 129.],\n",
      "         [113., 117., 128.],\n",
      "         [112., 116., 125.],\n",
      "         ...,\n",
      "         [104., 108., 109.],\n",
      "         [105., 109., 110.],\n",
      "         [107., 111., 112.]],\n",
      "\n",
      "        [[114., 118., 129.],\n",
      "         [113., 117., 128.],\n",
      "         [111., 115., 124.],\n",
      "         ...,\n",
      "         [104., 108., 109.],\n",
      "         [103., 107., 108.],\n",
      "         [104., 108., 109.]],\n",
      "\n",
      "        [[110., 114., 125.],\n",
      "         [109., 113., 124.],\n",
      "         [108., 112., 121.],\n",
      "         ...,\n",
      "         [102., 106., 107.],\n",
      "         [ 99., 103., 104.],\n",
      "         [ 97., 101., 102.]]]], dtype=float32)>, <tf.Tensor: shape=(68,), dtype=int32, numpy=\n",
      "array([0, 4, 2, 2, 4, 0, 4, 1, 8, 9, 0, 0, 9, 6, 7, 6, 4, 7, 7, 1, 3, 0,\n",
      "       4, 0, 7, 3, 7, 4, 5, 7, 6, 5, 6, 5, 7, 2, 2, 1, 1, 1, 0, 0, 9, 4,\n",
      "       5, 5, 7, 3, 9, 7, 5, 7, 1, 2, 9, 5, 7, 6, 4, 5, 7, 3, 0, 9, 7, 4,\n",
      "       7, 7])>)\n"
     ]
    }
   ],
   "source": [
    "for data in dataset.take(1):\n",
    "    print(data)"
   ]
  }
 ],
 "metadata": {
  "kernelspec": {
   "display_name": "Python 3",
   "language": "python",
   "name": "python3"
  },
  "language_info": {
   "codemirror_mode": {
    "name": "ipython",
    "version": 3
   },
   "file_extension": ".py",
   "mimetype": "text/x-python",
   "name": "python",
   "nbconvert_exporter": "python",
   "pygments_lexer": "ipython3",
   "version": "3.7.4"
  }
 },
 "nbformat": 4,
 "nbformat_minor": 2
}
